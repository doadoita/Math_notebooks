{
 "cells": [
  {
   "cell_type": "markdown",
   "metadata": {},
   "source": [
    "Binary Classification\n",
    "\n",
    "$Y|X \\sim Bernoulli(\\eta(X))$  -> Regression Function\n",
    "\n",
    "Then Bayes classifier:\n",
    "Definition:\n",
    "$ h^*(x) = \\begin{cases}\n",
    "   1 &\\text{if } \\eta(x) > 1/2\\\\\n",
    "   0 &\\text{if } \\eta(x) \\le 1/2\n",
    "\\end{cases}$\n",
    "Performance measure:\n",
    "$R(h) = P (Y \\not = h(X)) $\n"
   ]
  },
  {
   "cell_type": "code",
   "execution_count": null,
   "metadata": {},
   "outputs": [],
   "source": [
    "s"
   ]
  },
  {
   "cell_type": "markdown",
   "metadata": {},
   "source": [
    "Hoeffding inequality\n",
    "What the Hoeffding Inequality gives us is a probabilistic guarantee that a probability doesn’t stray too far from 𝜇 (mean)\n",
    "\n",
    "$𝕡[ |v-u| >eps] \\le 2e^{-2(eps)2N}$"
   ]
  },
  {
   "cell_type": "code",
   "execution_count": 9,
   "metadata": {},
   "outputs": [],
   "source": [
    "import random\n",
    "# tenemos una moneda\n",
    "def cointoss():\n",
    "    return random.choice([0,1]) # 0 = Tail, 1= Head\n",
    "   "
   ]
  },
  {
   "cell_type": "code",
   "execution_count": null,
   "metadata": {},
   "outputs": [],
   "source": []
  }
 ],
 "metadata": {
  "interpreter": {
   "hash": "b5eaf79ba9ae04fee026e810aaf5126ce245f91dd4f1f61e8aa200f7a4241738"
  },
  "kernelspec": {
   "display_name": "Python 3.9.12 ('mvenv+': venv)",
   "language": "python",
   "name": "python3"
  },
  "language_info": {
   "codemirror_mode": {
    "name": "ipython",
    "version": 3
   },
   "file_extension": ".py",
   "mimetype": "text/x-python",
   "name": "python",
   "nbconvert_exporter": "python",
   "pygments_lexer": "ipython3",
   "version": "3.9.12"
  },
  "orig_nbformat": 4
 },
 "nbformat": 4,
 "nbformat_minor": 2
}
